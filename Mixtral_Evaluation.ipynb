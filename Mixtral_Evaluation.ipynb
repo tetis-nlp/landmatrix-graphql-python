{
 "cells": [
  {
   "cell_type": "markdown",
   "metadata": {},
   "source": [
    "### Setting up the environment"
   ]
  },
  {
   "cell_type": "code",
   "execution_count": 1,
   "metadata": {},
   "outputs": [
    {
     "name": "stdout",
     "output_type": "stream",
     "text": [
      "Requirement already satisfied: pandas in d:\\stage\\evaluation\\.venv\\lib\\site-packages (2.2.2)\n",
      "Requirement already satisfied: numpy>=1.26.0 in d:\\stage\\evaluation\\.venv\\lib\\site-packages (from pandas) (1.26.4)\n",
      "Requirement already satisfied: python-dateutil>=2.8.2 in d:\\stage\\evaluation\\.venv\\lib\\site-packages (from pandas) (2.9.0.post0)\n",
      "Requirement already satisfied: pytz>=2020.1 in d:\\stage\\evaluation\\.venv\\lib\\site-packages (from pandas) (2024.1)\n",
      "Requirement already satisfied: tzdata>=2022.7 in d:\\stage\\evaluation\\.venv\\lib\\site-packages (from pandas) (2024.1)\n",
      "Requirement already satisfied: six>=1.5 in d:\\stage\\evaluation\\.venv\\lib\\site-packages (from python-dateutil>=2.8.2->pandas) (1.16.0)\n",
      "Requirement already satisfied: openpyxl in d:\\stage\\evaluation\\.venv\\lib\\site-packages (3.1.2)\n",
      "Requirement already satisfied: et-xmlfile in d:\\stage\\evaluation\\.venv\\lib\\site-packages (from openpyxl) (1.1.0)\n",
      "Requirement already satisfied: matplotlib in d:\\stage\\evaluation\\.venv\\lib\\site-packages (3.9.0)\n",
      "Requirement already satisfied: contourpy>=1.0.1 in d:\\stage\\evaluation\\.venv\\lib\\site-packages (from matplotlib) (1.2.1)\n",
      "Requirement already satisfied: cycler>=0.10 in d:\\stage\\evaluation\\.venv\\lib\\site-packages (from matplotlib) (0.12.1)\n",
      "Requirement already satisfied: fonttools>=4.22.0 in d:\\stage\\evaluation\\.venv\\lib\\site-packages (from matplotlib) (4.51.0)\n",
      "Requirement already satisfied: kiwisolver>=1.3.1 in d:\\stage\\evaluation\\.venv\\lib\\site-packages (from matplotlib) (1.4.5)\n",
      "Requirement already satisfied: numpy>=1.23 in d:\\stage\\evaluation\\.venv\\lib\\site-packages (from matplotlib) (1.26.4)\n",
      "Requirement already satisfied: packaging>=20.0 in d:\\stage\\evaluation\\.venv\\lib\\site-packages (from matplotlib) (23.2)\n",
      "Requirement already satisfied: pillow>=8 in d:\\stage\\evaluation\\.venv\\lib\\site-packages (from matplotlib) (10.3.0)\n",
      "Requirement already satisfied: pyparsing>=2.3.1 in d:\\stage\\evaluation\\.venv\\lib\\site-packages (from matplotlib) (3.1.2)\n",
      "Requirement already satisfied: python-dateutil>=2.7 in d:\\stage\\evaluation\\.venv\\lib\\site-packages (from matplotlib) (2.9.0.post0)\n",
      "Requirement already satisfied: six>=1.5 in d:\\stage\\evaluation\\.venv\\lib\\site-packages (from python-dateutil>=2.7->matplotlib) (1.16.0)\n",
      "Requirement already satisfied: requests in d:\\stage\\evaluation\\.venv\\lib\\site-packages (2.31.0)\n",
      "Requirement already satisfied: charset-normalizer<4,>=2 in d:\\stage\\evaluation\\.venv\\lib\\site-packages (from requests) (3.3.2)\n",
      "Requirement already satisfied: idna<4,>=2.5 in d:\\stage\\evaluation\\.venv\\lib\\site-packages (from requests) (3.7)\n",
      "Requirement already satisfied: urllib3<3,>=1.21.1 in d:\\stage\\evaluation\\.venv\\lib\\site-packages (from requests) (2.2.1)\n",
      "Requirement already satisfied: certifi>=2017.4.17 in d:\\stage\\evaluation\\.venv\\lib\\site-packages (from requests) (2024.2.2)\n",
      "Requirement already satisfied: numpy in d:\\stage\\evaluation\\.venv\\lib\\site-packages (1.26.4)\n"
     ]
    }
   ],
   "source": [
    "!pip install pandas\n",
    "!pip install openpyxl\n",
    "!pip install matplotlib\n",
    "!pip install requests\n",
    "!pip install numpy"
   ]
  },
  {
   "cell_type": "code",
   "execution_count": 2,
   "metadata": {},
   "outputs": [
    {
     "name": "stdout",
     "output_type": "stream",
     "text": [
      "['__builtins__', '__cached__', '__doc__', '__file__', '__loader__', '__name__', '__package__', '__spec__', 'add_responses_to_excel', 'ast', 'calculate_metrics', 'check_graphql_response', 'compare_filters', 'extract_filters', 'fct_comparer_Filtre', 'graphQl', 'jaccard_similarity', 'jaccard_similarity_resultats', 'pd', 're', 'requests', 'valid_resultats']\n"
     ]
    }
   ],
   "source": [
    "import pandas as pd\n",
    "import matplotlib.pyplot as plt\n",
    "import Functions\n",
    "print(dir(Functions))"
   ]
  },
  {
   "cell_type": "markdown",
   "metadata": {},
   "source": [
    "### Visualisation Des Donnees "
   ]
  },
  {
   "cell_type": "code",
   "execution_count": 3,
   "metadata": {},
   "outputs": [],
   "source": [
    "# Charger le fichier Excel\n",
    "input_file = 'output_mixtral.xlsx'\n",
    "df = pd.read_excel(input_file)"
   ]
  },
  {
   "cell_type": "code",
   "execution_count": 4,
   "metadata": {},
   "outputs": [
    {
     "data": {
      "text/html": [
       "<div>\n",
       "<style scoped>\n",
       "    .dataframe tbody tr th:only-of-type {\n",
       "        vertical-align: middle;\n",
       "    }\n",
       "\n",
       "    .dataframe tbody tr th {\n",
       "        vertical-align: top;\n",
       "    }\n",
       "\n",
       "    .dataframe thead th {\n",
       "        text-align: right;\n",
       "    }\n",
       "</style>\n",
       "<table border=\"1\" class=\"dataframe\">\n",
       "  <thead>\n",
       "    <tr style=\"text-align: right;\">\n",
       "      <th></th>\n",
       "      <th>question</th>\n",
       "      <th>Chatbot answer</th>\n",
       "      <th>Warning</th>\n",
       "      <th>Figures</th>\n",
       "      <th>Real_Query</th>\n",
       "      <th>Predict_Query</th>\n",
       "      <th>score</th>\n",
       "    </tr>\n",
       "  </thead>\n",
       "  <tbody>\n",
       "    <tr>\n",
       "      <th>0</th>\n",
       "      <td>Where are the investments in Agriculture?</td>\n",
       "      <td>What status are you interested in? (in operati...</td>\n",
       "      <td>NaN</td>\n",
       "      <td>Choropleth map (region, country) + Map deals l...</td>\n",
       "      <td>query Data {\\n  deals(\\n    filters: [\\n      ...</td>\n",
       "      <td>\\nquery Data {\\n  deals(\\n    filters: [\\n    ...</td>\n",
       "      <td>1.0</td>\n",
       "    </tr>\n",
       "    <tr>\n",
       "      <th>1</th>\n",
       "      <td>Where are the investments in Forestry?</td>\n",
       "      <td>What status are you interested in? (in operati...</td>\n",
       "      <td>NaN</td>\n",
       "      <td>Choropleth map (region, country) + Map deals l...</td>\n",
       "      <td>query Data {\\n  deals(\\n    filters: [\\n      ...</td>\n",
       "      <td>\\nquery Data {\\n  deals(\\n    filters: [\\n    ...</td>\n",
       "      <td>0.0</td>\n",
       "    </tr>\n",
       "    <tr>\n",
       "      <th>2</th>\n",
       "      <td>Where are the investments in Mining?</td>\n",
       "      <td>What status are you interested in? (in operati...</td>\n",
       "      <td>NaN</td>\n",
       "      <td>Choropleth map (region, country) + Map deals l...</td>\n",
       "      <td>query Data {\\n  deals(\\n    filters: [\\n      ...</td>\n",
       "      <td>\\nquery Data {\\n  deals(\\n    filters: [\\n    ...</td>\n",
       "      <td>0.0</td>\n",
       "    </tr>\n",
       "    <tr>\n",
       "      <th>3</th>\n",
       "      <td>What types of investment exist in Laos?</td>\n",
       "      <td>What status are you interested in? (in operati...</td>\n",
       "      <td>NaN</td>\n",
       "      <td>Histogram + Map deals location proportional ci...</td>\n",
       "      <td>query Data {\\n  deals(\\n    filters: [\\n      ...</td>\n",
       "      <td>query Data {\\n  deals(\\n    filters: [\\n      ...</td>\n",
       "      <td>0.0</td>\n",
       "    </tr>\n",
       "    <tr>\n",
       "      <th>4</th>\n",
       "      <td>What types of investment exist in Tanzania?</td>\n",
       "      <td>What status are you interested in? (in operati...</td>\n",
       "      <td>NaN</td>\n",
       "      <td>Histogram + Map deals location proportional ci...</td>\n",
       "      <td>query Data {\\n  deals(\\n    filters: [\\n      ...</td>\n",
       "      <td>\\nquery Data {\\n  deals(\\n    filters: [\\n    ...</td>\n",
       "      <td>1.0</td>\n",
       "    </tr>\n",
       "  </tbody>\n",
       "</table>\n",
       "</div>"
      ],
      "text/plain": [
       "                                      question  \\\n",
       "0    Where are the investments in Agriculture?   \n",
       "1       Where are the investments in Forestry?   \n",
       "2         Where are the investments in Mining?   \n",
       "3      What types of investment exist in Laos?   \n",
       "4  What types of investment exist in Tanzania?   \n",
       "\n",
       "                                      Chatbot answer Warning  \\\n",
       "0  What status are you interested in? (in operati...     NaN   \n",
       "1  What status are you interested in? (in operati...     NaN   \n",
       "2  What status are you interested in? (in operati...     NaN   \n",
       "3  What status are you interested in? (in operati...     NaN   \n",
       "4  What status are you interested in? (in operati...     NaN   \n",
       "\n",
       "                                             Figures  \\\n",
       "0  Choropleth map (region, country) + Map deals l...   \n",
       "1  Choropleth map (region, country) + Map deals l...   \n",
       "2  Choropleth map (region, country) + Map deals l...   \n",
       "3  Histogram + Map deals location proportional ci...   \n",
       "4  Histogram + Map deals location proportional ci...   \n",
       "\n",
       "                                          Real_Query  \\\n",
       "0  query Data {\\n  deals(\\n    filters: [\\n      ...   \n",
       "1  query Data {\\n  deals(\\n    filters: [\\n      ...   \n",
       "2  query Data {\\n  deals(\\n    filters: [\\n      ...   \n",
       "3  query Data {\\n  deals(\\n    filters: [\\n      ...   \n",
       "4  query Data {\\n  deals(\\n    filters: [\\n      ...   \n",
       "\n",
       "                                       Predict_Query  score  \n",
       "0  \\nquery Data {\\n  deals(\\n    filters: [\\n    ...    1.0  \n",
       "1  \\nquery Data {\\n  deals(\\n    filters: [\\n    ...    0.0  \n",
       "2  \\nquery Data {\\n  deals(\\n    filters: [\\n    ...    0.0  \n",
       "3  query Data {\\n  deals(\\n    filters: [\\n      ...    0.0  \n",
       "4  \\nquery Data {\\n  deals(\\n    filters: [\\n    ...    1.0  "
      ]
     },
     "execution_count": 4,
     "metadata": {},
     "output_type": "execute_result"
    }
   ],
   "source": [
    "df.head()"
   ]
  },
  {
   "cell_type": "code",
   "execution_count": 5,
   "metadata": {},
   "outputs": [],
   "source": [
    "df = df.drop(df.tail(7).index)\n",
    "df= df.drop(columns=['Chatbot answer'])\n",
    "df = df.drop(columns=['Warning'])\n",
    "df = df.drop(columns=['Figures'])"
   ]
  },
  {
   "cell_type": "code",
   "execution_count": 6,
   "metadata": {},
   "outputs": [
    {
     "data": {
      "image/png": "[encoded data removed]",
      "text/plain": [
       "<Figure size 640x480 with 1 Axes>"
      ]
     },
     "metadata": {},
     "output_type": "display_data"
    }
   ],
   "source": [
    "plt.hist(df['score'], bins=2, color='skyblue', edgecolor='black', alpha=0.7)\n",
    "\n",
    "# Ajouter des titres et des étiquettes\n",
    "plt.title('Histogramme des valeurs de la colonne \"score\"')\n",
    "plt.xlabel('Score')\n",
    "plt.ylabel('Nombre de occurrences')\n",
    "\n",
    "# Afficher l'histogramme\n",
    "plt.show()"
   ]
  },
  {
   "cell_type": "code",
   "execution_count": 7,
   "metadata": {},
   "outputs": [
    {
     "data": {
      "image/png": "[encoded data removed]",
      "text/plain": [
       "<Figure size 600x600 with 1 Axes>"
      ]
     },
     "metadata": {},
     "output_type": "display_data"
    }
   ],
   "source": [
    "# Calculer les proportions de 0 et de 1\n",
    "counts = df['score'].value_counts()\n",
    "\n",
    "# Créer un diagramme circulaire\n",
    "plt.figure(figsize=(6,6))\n",
    "plt.pie(counts, labels=counts.index, autopct='%1.1f%%', colors=['skyblue', 'lightgreen'], startangle=140)\n",
    "plt.title('Répartition des valeurs de la colonne \"score\"')\n",
    "plt.axis('equal')  \n",
    "plt.show()"
   ]
  },
  {
   "cell_type": "code",
   "execution_count": 8,
   "metadata": {},
   "outputs": [
    {
     "data": {
      "text/plain": [
       "score\n",
       "0.0    19\n",
       "1.0    13\n",
       "Name: count, dtype: int64"
      ]
     },
     "execution_count": 8,
     "metadata": {},
     "output_type": "execute_result"
    }
   ],
   "source": [
    "counts"
   ]
  },
  {
   "cell_type": "markdown",
   "metadata": {},
   "source": [
    "### Récupérer les réponses des requêtes GraphQL"
   ]
  },
  {
   "cell_type": "code",
   "execution_count": 9,
   "metadata": {},
   "outputs": [],
   "source": [
    "# Appeler la fonction pour ajouter les réponses GraphQL au DataFrame\n",
    "df_reponse = Functions.add_responses_to_excel(df)\n",
    "\n",
    "# Enregistrer le DataFrame modifié dans un nouveau fichier Excel\n",
    "output_file = r'output_reponse_mixtral.xlsx'\n",
    "df_reponse.to_excel(output_file, index=False)"
   ]
  },
  {
   "cell_type": "code",
   "execution_count": 10,
   "metadata": {},
   "outputs": [
    {
     "data": {
      "text/html": [
       "<div>\n",
       "<style scoped>\n",
       "    .dataframe tbody tr th:only-of-type {\n",
       "        vertical-align: middle;\n",
       "    }\n",
       "\n",
       "    .dataframe tbody tr th {\n",
       "        vertical-align: top;\n",
       "    }\n",
       "\n",
       "    .dataframe thead th {\n",
       "        text-align: right;\n",
       "    }\n",
       "</style>\n",
       "<table border=\"1\" class=\"dataframe\">\n",
       "  <thead>\n",
       "    <tr style=\"text-align: right;\">\n",
       "      <th></th>\n",
       "      <th>question</th>\n",
       "      <th>Real_Query</th>\n",
       "      <th>Predict_Query</th>\n",
       "      <th>score</th>\n",
       "      <th>Real_Response</th>\n",
       "      <th>Predict_Response</th>\n",
       "    </tr>\n",
       "  </thead>\n",
       "  <tbody>\n",
       "    <tr>\n",
       "      <th>0</th>\n",
       "      <td>Where are the investments in Agriculture?</td>\n",
       "      <td>query Data {\\n  deals(\\n    filters: [\\n      ...</td>\n",
       "      <td>\\nquery Data {\\n  deals(\\n    filters: [\\n    ...</td>\n",
       "      <td>1.0</td>\n",
       "      <td>{'data': {'deals': [{'id': 8, 'country': {'id'...</td>\n",
       "      <td>{'data': {'deals': [{'id': 8, 'country': {'id'...</td>\n",
       "    </tr>\n",
       "    <tr>\n",
       "      <th>1</th>\n",
       "      <td>Where are the investments in Forestry?</td>\n",
       "      <td>query Data {\\n  deals(\\n    filters: [\\n      ...</td>\n",
       "      <td>\\nquery Data {\\n  deals(\\n    filters: [\\n    ...</td>\n",
       "      <td>0.0</td>\n",
       "      <td>{'data': {'deals': [{'id': 12, 'country': {'id...</td>\n",
       "      <td>{'data': {'deals': []}}</td>\n",
       "    </tr>\n",
       "    <tr>\n",
       "      <th>2</th>\n",
       "      <td>Where are the investments in Mining?</td>\n",
       "      <td>query Data {\\n  deals(\\n    filters: [\\n      ...</td>\n",
       "      <td>\\nquery Data {\\n  deals(\\n    filters: [\\n    ...</td>\n",
       "      <td>0.0</td>\n",
       "      <td>{'data': {'deals': [{'id': 180, 'country': {'i...</td>\n",
       "      <td>{'data': {'deals': None}, 'errors': [{'message...</td>\n",
       "    </tr>\n",
       "    <tr>\n",
       "      <th>3</th>\n",
       "      <td>What types of investment exist in Laos?</td>\n",
       "      <td>query Data {\\n  deals(\\n    filters: [\\n      ...</td>\n",
       "      <td>query Data {\\n  deals(\\n    filters: [\\n      ...</td>\n",
       "      <td>0.0</td>\n",
       "      <td>{'data': {'deals': [{'id': 216, 'country': {'i...</td>\n",
       "      <td>{'data': {'deals': []}}</td>\n",
       "    </tr>\n",
       "    <tr>\n",
       "      <th>4</th>\n",
       "      <td>What types of investment exist in Tanzania?</td>\n",
       "      <td>query Data {\\n  deals(\\n    filters: [\\n      ...</td>\n",
       "      <td>\\nquery Data {\\n  deals(\\n    filters: [\\n    ...</td>\n",
       "      <td>1.0</td>\n",
       "      <td>{'data': {'deals': [{'id': 1834, 'country': {'...</td>\n",
       "      <td>{'data': {'deals': [{'id': 1834, 'country': {'...</td>\n",
       "    </tr>\n",
       "  </tbody>\n",
       "</table>\n",
       "</div>"
      ],
      "text/plain": [
       "                                      question  \\\n",
       "0    Where are the investments in Agriculture?   \n",
       "1       Where are the investments in Forestry?   \n",
       "2         Where are the investments in Mining?   \n",
       "3      What types of investment exist in Laos?   \n",
       "4  What types of investment exist in Tanzania?   \n",
       "\n",
       "                                          Real_Query  \\\n",
       "0  query Data {\\n  deals(\\n    filters: [\\n      ...   \n",
       "1  query Data {\\n  deals(\\n    filters: [\\n      ...   \n",
       "2  query Data {\\n  deals(\\n    filters: [\\n      ...   \n",
       "3  query Data {\\n  deals(\\n    filters: [\\n      ...   \n",
       "4  query Data {\\n  deals(\\n    filters: [\\n      ...   \n",
       "\n",
       "                                       Predict_Query  score  \\\n",
       "0  \\nquery Data {\\n  deals(\\n    filters: [\\n    ...    1.0   \n",
       "1  \\nquery Data {\\n  deals(\\n    filters: [\\n    ...    0.0   \n",
       "2  \\nquery Data {\\n  deals(\\n    filters: [\\n    ...    0.0   \n",
       "3  query Data {\\n  deals(\\n    filters: [\\n      ...    0.0   \n",
       "4  \\nquery Data {\\n  deals(\\n    filters: [\\n    ...    1.0   \n",
       "\n",
       "                                       Real_Response  \\\n",
       "0  {'data': {'deals': [{'id': 8, 'country': {'id'...   \n",
       "1  {'data': {'deals': [{'id': 12, 'country': {'id...   \n",
       "2  {'data': {'deals': [{'id': 180, 'country': {'i...   \n",
       "3  {'data': {'deals': [{'id': 216, 'country': {'i...   \n",
       "4  {'data': {'deals': [{'id': 1834, 'country': {'...   \n",
       "\n",
       "                                    Predict_Response  \n",
       "0  {'data': {'deals': [{'id': 8, 'country': {'id'...  \n",
       "1                            {'data': {'deals': []}}  \n",
       "2  {'data': {'deals': None}, 'errors': [{'message...  \n",
       "3                            {'data': {'deals': []}}  \n",
       "4  {'data': {'deals': [{'id': 1834, 'country': {'...  "
      ]
     },
     "execution_count": 10,
     "metadata": {},
     "output_type": "execute_result"
    }
   ],
   "source": [
    "df_reponse.head()"
   ]
  },
  {
   "cell_type": "markdown",
   "metadata": {},
   "source": [
    "### Calcule de la similarité entre les réponses réelles et générées using Jaccard_Similarity"
   ]
  },
  {
   "cell_type": "code",
   "execution_count": 11,
   "metadata": {},
   "outputs": [
    {
     "data": {
      "text/html": [
       "<div>\n",
       "<style scoped>\n",
       "    .dataframe tbody tr th:only-of-type {\n",
       "        vertical-align: middle;\n",
       "    }\n",
       "\n",
       "    .dataframe tbody tr th {\n",
       "        vertical-align: top;\n",
       "    }\n",
       "\n",
       "    .dataframe thead th {\n",
       "        text-align: right;\n",
       "    }\n",
       "</style>\n",
       "<table border=\"1\" class=\"dataframe\">\n",
       "  <thead>\n",
       "    <tr style=\"text-align: right;\">\n",
       "      <th></th>\n",
       "      <th>question</th>\n",
       "      <th>Real_Query</th>\n",
       "      <th>Predict_Query</th>\n",
       "      <th>score</th>\n",
       "      <th>Real_Response</th>\n",
       "      <th>Predict_Response</th>\n",
       "      <th>jaccard_score</th>\n",
       "      <th>valid_query</th>\n",
       "    </tr>\n",
       "  </thead>\n",
       "  <tbody>\n",
       "    <tr>\n",
       "      <th>0</th>\n",
       "      <td>Where are the investments in Agriculture?</td>\n",
       "      <td>query Data {\\n  deals(\\n    filters: [\\n      ...</td>\n",
       "      <td>\\nquery Data {\\n  deals(\\n    filters: [\\n    ...</td>\n",
       "      <td>1.0</td>\n",
       "      <td>{'data': {'deals': [{'id': 8, 'country': {'id'...</td>\n",
       "      <td>{'data': {'deals': [{'id': 8, 'country': {'id'...</td>\n",
       "      <td>1.0</td>\n",
       "      <td>1</td>\n",
       "    </tr>\n",
       "    <tr>\n",
       "      <th>1</th>\n",
       "      <td>Where are the investments in Forestry?</td>\n",
       "      <td>query Data {\\n  deals(\\n    filters: [\\n      ...</td>\n",
       "      <td>\\nquery Data {\\n  deals(\\n    filters: [\\n    ...</td>\n",
       "      <td>0.0</td>\n",
       "      <td>{'data': {'deals': [{'id': 12, 'country': {'id...</td>\n",
       "      <td>{'data': {'deals': []}}</td>\n",
       "      <td>0.044444</td>\n",
       "      <td>0</td>\n",
       "    </tr>\n",
       "    <tr>\n",
       "      <th>2</th>\n",
       "      <td>Where are the investments in Mining?</td>\n",
       "      <td>query Data {\\n  deals(\\n    filters: [\\n      ...</td>\n",
       "      <td>\\nquery Data {\\n  deals(\\n    filters: [\\n    ...</td>\n",
       "      <td>0.0</td>\n",
       "      <td>{'data': {'deals': [{'id': 180, 'country': {'i...</td>\n",
       "      <td>{'data': {'deals': None}, 'errors': [{'message...</td>\n",
       "      <td>0.022222</td>\n",
       "      <td>0</td>\n",
       "    </tr>\n",
       "    <tr>\n",
       "      <th>3</th>\n",
       "      <td>What types of investment exist in Laos?</td>\n",
       "      <td>query Data {\\n  deals(\\n    filters: [\\n      ...</td>\n",
       "      <td>query Data {\\n  deals(\\n    filters: [\\n      ...</td>\n",
       "      <td>0.0</td>\n",
       "      <td>{'data': {'deals': [{'id': 216, 'country': {'i...</td>\n",
       "      <td>{'data': {'deals': []}}</td>\n",
       "      <td>0.04</td>\n",
       "      <td>0</td>\n",
       "    </tr>\n",
       "    <tr>\n",
       "      <th>4</th>\n",
       "      <td>What types of investment exist in Tanzania?</td>\n",
       "      <td>query Data {\\n  deals(\\n    filters: [\\n      ...</td>\n",
       "      <td>\\nquery Data {\\n  deals(\\n    filters: [\\n    ...</td>\n",
       "      <td>1.0</td>\n",
       "      <td>{'data': {'deals': [{'id': 1834, 'country': {'...</td>\n",
       "      <td>{'data': {'deals': [{'id': 1834, 'country': {'...</td>\n",
       "      <td>1.0</td>\n",
       "      <td>1</td>\n",
       "    </tr>\n",
       "  </tbody>\n",
       "</table>\n",
       "</div>"
      ],
      "text/plain": [
       "                                      question  \\\n",
       "0    Where are the investments in Agriculture?   \n",
       "1       Where are the investments in Forestry?   \n",
       "2         Where are the investments in Mining?   \n",
       "3      What types of investment exist in Laos?   \n",
       "4  What types of investment exist in Tanzania?   \n",
       "\n",
       "                                          Real_Query  \\\n",
       "0  query Data {\\n  deals(\\n    filters: [\\n      ...   \n",
       "1  query Data {\\n  deals(\\n    filters: [\\n      ...   \n",
       "2  query Data {\\n  deals(\\n    filters: [\\n      ...   \n",
       "3  query Data {\\n  deals(\\n    filters: [\\n      ...   \n",
       "4  query Data {\\n  deals(\\n    filters: [\\n      ...   \n",
       "\n",
       "                                       Predict_Query  score  \\\n",
       "0  \\nquery Data {\\n  deals(\\n    filters: [\\n    ...    1.0   \n",
       "1  \\nquery Data {\\n  deals(\\n    filters: [\\n    ...    0.0   \n",
       "2  \\nquery Data {\\n  deals(\\n    filters: [\\n    ...    0.0   \n",
       "3  query Data {\\n  deals(\\n    filters: [\\n      ...    0.0   \n",
       "4  \\nquery Data {\\n  deals(\\n    filters: [\\n    ...    1.0   \n",
       "\n",
       "                                       Real_Response  \\\n",
       "0  {'data': {'deals': [{'id': 8, 'country': {'id'...   \n",
       "1  {'data': {'deals': [{'id': 12, 'country': {'id...   \n",
       "2  {'data': {'deals': [{'id': 180, 'country': {'i...   \n",
       "3  {'data': {'deals': [{'id': 216, 'country': {'i...   \n",
       "4  {'data': {'deals': [{'id': 1834, 'country': {'...   \n",
       "\n",
       "                                    Predict_Response jaccard_score valid_query  \n",
       "0  {'data': {'deals': [{'id': 8, 'country': {'id'...           1.0           1  \n",
       "1                            {'data': {'deals': []}}      0.044444           0  \n",
       "2  {'data': {'deals': None}, 'errors': [{'message...      0.022222           0  \n",
       "3                            {'data': {'deals': []}}          0.04           0  \n",
       "4  {'data': {'deals': [{'id': 1834, 'country': {'...           1.0           1  "
      ]
     },
     "execution_count": 11,
     "metadata": {},
     "output_type": "execute_result"
    }
   ],
   "source": [
    "data = Functions.jaccard_similarity_resultats(df_reponse)\n",
    "data = Functions.valid_resultats(data)\n",
    "data.head()"
   ]
  },
  {
   "cell_type": "markdown",
   "metadata": {},
   "source": [
    "### Evaluation des resultats"
   ]
  },
  {
   "cell_type": "code",
   "execution_count": 12,
   "metadata": {},
   "outputs": [
    {
     "name": "stdout",
     "output_type": "stream",
     "text": [
      "Coefficient de similarité moyen: 0.29924717699368186\n",
      "Percentage of predictions which are valid graphQL (VA): 0.7575757575757576\n"
     ]
    }
   ],
   "source": [
    "# Calculer la moyenne des scores\n",
    "\n",
    "average_similarity_result = data['jaccard_score'].mean()\n",
    "average_similarity_valid  = data['valid_query'].mean()\n",
    "\n",
    "print(\"Coefficient de similarité moyen:\", average_similarity_result)\n",
    "print(\"Percentage of predictions which are valid graphQL (VA):\", average_similarity_valid)"
   ]
  },
  {
   "cell_type": "markdown",
   "metadata": {},
   "source": [
    "### Calcule de similarite entre entites "
   ]
  },
  {
   "cell_type": "markdown",
   "metadata": {},
   "source": [
    "##### TP : Les déclarations sont trouvées à la fois dans les deux requêtes, indiquant que le modèle a correctement identifié les entités pertinentes.\n",
    "##### FP : Le modèle a généré d'autres éléments en plus des entités nécessaires, indiquant une surproduction ou une inclusion d'informations non pertinentes.\n",
    "##### FN : Le modèle n'a pas réussi à définir les entités pertinentes, indiquant qu'il a manqué des éléments essentiels dans sa réponse."
   ]
  },
  {
   "cell_type": "code",
   "execution_count": 13,
   "metadata": {},
   "outputs": [],
   "source": [
    "data_ET = Functions.fct_comparer_Filtre(df)"
   ]
  },
  {
   "cell_type": "code",
   "execution_count": 14,
   "metadata": {},
   "outputs": [
    {
     "data": {
      "text/html": [
       "<div>\n",
       "<style scoped>\n",
       "    .dataframe tbody tr th:only-of-type {\n",
       "        vertical-align: middle;\n",
       "    }\n",
       "\n",
       "    .dataframe tbody tr th {\n",
       "        vertical-align: top;\n",
       "    }\n",
       "\n",
       "    .dataframe thead th {\n",
       "        text-align: right;\n",
       "    }\n",
       "</style>\n",
       "<table border=\"1\" class=\"dataframe\">\n",
       "  <thead>\n",
       "    <tr style=\"text-align: right;\">\n",
       "      <th></th>\n",
       "      <th>question</th>\n",
       "      <th>Real_Query</th>\n",
       "      <th>Predict_Query</th>\n",
       "      <th>score</th>\n",
       "      <th>Real_Response</th>\n",
       "      <th>Predict_Response</th>\n",
       "      <th>TP</th>\n",
       "      <th>FP</th>\n",
       "      <th>FN</th>\n",
       "      <th>TP_value</th>\n",
       "    </tr>\n",
       "  </thead>\n",
       "  <tbody>\n",
       "    <tr>\n",
       "      <th>0</th>\n",
       "      <td>Where are the investments in Agriculture?</td>\n",
       "      <td>query Data {\\n  deals(\\n    filters: [\\n      ...</td>\n",
       "      <td>\\nquery Data {\\n  deals(\\n    filters: [\\n    ...</td>\n",
       "      <td>1.0</td>\n",
       "      <td>{'data': {'deals': [{'id': 8, 'country': {'id'...</td>\n",
       "      <td>{'data': {'deals': [{'id': 8, 'country': {'id'...</td>\n",
       "      <td>1</td>\n",
       "      <td>0</td>\n",
       "      <td>0</td>\n",
       "      <td>1</td>\n",
       "    </tr>\n",
       "    <tr>\n",
       "      <th>1</th>\n",
       "      <td>Where are the investments in Forestry?</td>\n",
       "      <td>query Data {\\n  deals(\\n    filters: [\\n      ...</td>\n",
       "      <td>\\nquery Data {\\n  deals(\\n    filters: [\\n    ...</td>\n",
       "      <td>0.0</td>\n",
       "      <td>{'data': {'deals': [{'id': 12, 'country': {'id...</td>\n",
       "      <td>{'data': {'deals': []}}</td>\n",
       "      <td>1</td>\n",
       "      <td>0</td>\n",
       "      <td>0</td>\n",
       "      <td>0</td>\n",
       "    </tr>\n",
       "    <tr>\n",
       "      <th>2</th>\n",
       "      <td>Where are the investments in Mining?</td>\n",
       "      <td>query Data {\\n  deals(\\n    filters: [\\n      ...</td>\n",
       "      <td>\\nquery Data {\\n  deals(\\n    filters: [\\n    ...</td>\n",
       "      <td>0.0</td>\n",
       "      <td>{'data': {'deals': [{'id': 180, 'country': {'i...</td>\n",
       "      <td>{'data': {'deals': None}, 'errors': [{'message...</td>\n",
       "      <td>1</td>\n",
       "      <td>0</td>\n",
       "      <td>0</td>\n",
       "      <td>0</td>\n",
       "    </tr>\n",
       "    <tr>\n",
       "      <th>3</th>\n",
       "      <td>What types of investment exist in Laos?</td>\n",
       "      <td>query Data {\\n  deals(\\n    filters: [\\n      ...</td>\n",
       "      <td>query Data {\\n  deals(\\n    filters: [\\n      ...</td>\n",
       "      <td>0.0</td>\n",
       "      <td>{'data': {'deals': [{'id': 216, 'country': {'i...</td>\n",
       "      <td>{'data': {'deals': []}}</td>\n",
       "      <td>1</td>\n",
       "      <td>0</td>\n",
       "      <td>0</td>\n",
       "      <td>0</td>\n",
       "    </tr>\n",
       "    <tr>\n",
       "      <th>4</th>\n",
       "      <td>What types of investment exist in Tanzania?</td>\n",
       "      <td>query Data {\\n  deals(\\n    filters: [\\n      ...</td>\n",
       "      <td>\\nquery Data {\\n  deals(\\n    filters: [\\n    ...</td>\n",
       "      <td>1.0</td>\n",
       "      <td>{'data': {'deals': [{'id': 1834, 'country': {'...</td>\n",
       "      <td>{'data': {'deals': [{'id': 1834, 'country': {'...</td>\n",
       "      <td>1</td>\n",
       "      <td>0</td>\n",
       "      <td>0</td>\n",
       "      <td>1</td>\n",
       "    </tr>\n",
       "  </tbody>\n",
       "</table>\n",
       "</div>"
      ],
      "text/plain": [
       "                                      question  \\\n",
       "0    Where are the investments in Agriculture?   \n",
       "1       Where are the investments in Forestry?   \n",
       "2         Where are the investments in Mining?   \n",
       "3      What types of investment exist in Laos?   \n",
       "4  What types of investment exist in Tanzania?   \n",
       "\n",
       "                                          Real_Query  \\\n",
       "0  query Data {\\n  deals(\\n    filters: [\\n      ...   \n",
       "1  query Data {\\n  deals(\\n    filters: [\\n      ...   \n",
       "2  query Data {\\n  deals(\\n    filters: [\\n      ...   \n",
       "3  query Data {\\n  deals(\\n    filters: [\\n      ...   \n",
       "4  query Data {\\n  deals(\\n    filters: [\\n      ...   \n",
       "\n",
       "                                       Predict_Query  score  \\\n",
       "0  \\nquery Data {\\n  deals(\\n    filters: [\\n    ...    1.0   \n",
       "1  \\nquery Data {\\n  deals(\\n    filters: [\\n    ...    0.0   \n",
       "2  \\nquery Data {\\n  deals(\\n    filters: [\\n    ...    0.0   \n",
       "3  query Data {\\n  deals(\\n    filters: [\\n      ...    0.0   \n",
       "4  \\nquery Data {\\n  deals(\\n    filters: [\\n    ...    1.0   \n",
       "\n",
       "                                       Real_Response  \\\n",
       "0  {'data': {'deals': [{'id': 8, 'country': {'id'...   \n",
       "1  {'data': {'deals': [{'id': 12, 'country': {'id...   \n",
       "2  {'data': {'deals': [{'id': 180, 'country': {'i...   \n",
       "3  {'data': {'deals': [{'id': 216, 'country': {'i...   \n",
       "4  {'data': {'deals': [{'id': 1834, 'country': {'...   \n",
       "\n",
       "                                    Predict_Response  TP  FP  FN  TP_value  \n",
       "0  {'data': {'deals': [{'id': 8, 'country': {'id'...   1   0   0         1  \n",
       "1                            {'data': {'deals': []}}   1   0   0         0  \n",
       "2  {'data': {'deals': None}, 'errors': [{'message...   1   0   0         0  \n",
       "3                            {'data': {'deals': []}}   1   0   0         0  \n",
       "4  {'data': {'deals': [{'id': 1834, 'country': {'...   1   0   0         1  "
      ]
     },
     "execution_count": 14,
     "metadata": {},
     "output_type": "execute_result"
    }
   ],
   "source": [
    "data_ET.head()"
   ]
  },
  {
   "cell_type": "markdown",
   "metadata": {},
   "source": [
    "### Metrics d'evaluation"
   ]
  },
  {
   "cell_type": "code",
   "execution_count": 15,
   "metadata": {},
   "outputs": [
    {
     "name": "stdout",
     "output_type": "stream",
     "text": [
      "Precision: 1.0\n",
      "Recall: 0.7878787878787878\n",
      "Accuracy: 0.7878787878787878\n",
      "F1 Score: 0.8813559322033898\n",
      "TP:  26\n",
      "FP:  0\n",
      "FN:  7\n"
     ]
    }
   ],
   "source": [
    "Functions.calculate_metrics(data_ET)"
   ]
  },
  {
   "cell_type": "code",
   "execution_count": 16,
   "metadata": {},
   "outputs": [
    {
     "data": {
      "text/plain": [
       "0.48484848484848486"
      ]
     },
     "execution_count": 16,
     "metadata": {},
     "output_type": "execute_result"
    }
   ],
   "source": [
    "# mean des valeurs bien definies\n",
    "mean_value = data_ET[\"TP_value\"].mean()\n",
    "mean_value"
   ]
  },
  {
   "cell_type": "code",
   "execution_count": null,
   "metadata": {},
   "outputs": [],
   "source": []
  }
 ],
 "metadata": {
  "kernelspec": {
   "display_name": ".venv",
   "language": "python",
   "name": "python3"
  },
  "language_info": {
   "codemirror_mode": {
    "name": "ipython",
    "version": 3
   },
   "file_extension": ".py",
   "mimetype": "text/x-python",
   "name": "python",
   "nbconvert_exporter": "python",
   "pygments_lexer": "ipython3",
   "version": "3.12.0"
  }
 },
 "nbformat": 4,
 "nbformat_minor": 2
}
